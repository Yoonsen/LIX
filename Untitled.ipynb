{
 "cells": [
  {
   "cell_type": "code",
   "execution_count": 1,
   "id": "f9186e40-8a7e-4b8c-adff-7acf73c81353",
   "metadata": {},
   "outputs": [],
   "source": [
    "import dhlab as dh\n",
    "import dhlab.api.dhlab_api as api"
   ]
  },
  {
   "cell_type": "code",
   "execution_count": null,
   "id": "d2a8abd8-79b8-4c78-9c14-e7b162da63cf",
   "metadata": {},
   "outputs": [],
   "source": [
    "api.get_"
   ]
  }
 ],
 "metadata": {
  "kernelspec": {
   "display_name": "Python 3 (ipykernel)",
   "language": "python",
   "name": "python3"
  },
  "language_info": {
   "codemirror_mode": {
    "name": "ipython",
    "version": 3
   },
   "file_extension": ".py",
   "mimetype": "text/x-python",
   "name": "python",
   "nbconvert_exporter": "python",
   "pygments_lexer": "ipython3",
   "version": "3.9.13"
  }
 },
 "nbformat": 4,
 "nbformat_minor": 5
}
